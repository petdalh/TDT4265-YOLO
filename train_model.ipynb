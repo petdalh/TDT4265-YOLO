{
 "cells": [
  {
   "cell_type": "code",
   "execution_count": 26,
   "metadata": {},
   "outputs": [],
   "source": [
    "\n",
    "import os\n",
    "import yaml\n",
    "from pathlib import Path\n",
    "from ultralytics import YOLO\n",
    "import matplotlib.pyplot as plt\n",
    "import matplotlib.patches as patches\n",
    "import cv2\n",
    "import numpy as np"
   ]
  },
  {
   "cell_type": "code",
   "execution_count": 27,
   "metadata": {},
   "outputs": [],
   "source": [
    "base_dir = \"cleaned_data\"\n",
    "base_dir = Path(base_dir)"
   ]
  },
  {
   "cell_type": "code",
   "execution_count": 28,
   "metadata": {},
   "outputs": [
    {
     "name": "stdout",
     "output_type": "stream",
     "text": [
      "Exploring dataset structure...\n",
      "Train images: 866\n",
      "Validation images: 388\n",
      "Test images: 192\n",
      "Training labels: 1864\n"
     ]
    }
   ],
   "source": [
    "print(\"Exploring dataset structure...\")\n",
    "print(f\"Train images: {len(list((base_dir / 'lidar_data' / 'train' / 'images').glob('*.png')))}\")\n",
    "print(f\"Validation images: {len(list((base_dir / 'lidar_data' / 'valid' / 'images').glob('*.png')))}\")\n",
    "print(f\"Test images: {len(list((base_dir / 'lidar_data' / 'test' / 'images').glob('*.png')))}\")\n",
    "print(f\"Training labels: {len(list((base_dir / 'lidar_data' / 'train' / 'labels').glob('*.txt')))}\")"
   ]
  },
  {
   "cell_type": "code",
   "execution_count": null,
   "metadata": {},
   "outputs": [
    {
     "name": "stdout",
     "output_type": "stream",
     "text": [
      "New https://pypi.org/project/ultralytics/8.3.113 available 😃 Update with 'pip install -U ultralytics'\n",
      "Ultralytics 8.3.86 🚀 Python-3.11.11 torch-2.5.0 CUDA:0 (Tesla P100-PCIE-16GB, 16269MiB)\n",
      "\u001b[34m\u001b[1mengine/trainer: \u001b[0mtask=detect, mode=train, model=yolov8s.pt, data=/cluster/home/pettdalh/tdt4265_project/data/data.yaml, epochs=80, time=None, patience=10, batch=-1, imgsz=640, save=True, save_period=-1, cache=False, device=cuda, workers=8, project=None, name=train8, exist_ok=False, pretrained=True, optimizer=AdamW, verbose=True, seed=0, deterministic=True, single_cls=False, rect=False, cos_lr=False, close_mosaic=10, resume=False, amp=True, fraction=1.0, profile=False, freeze=None, multi_scale=False, overlap_mask=True, mask_ratio=4, dropout=0.0, val=True, split=val, save_json=False, save_hybrid=False, conf=None, iou=0.7, max_det=300, half=False, dnn=False, plots=True, source=None, vid_stride=1, stream_buffer=False, visualize=False, augment=False, agnostic_nms=False, classes=None, retina_masks=False, embed=None, show=False, save_frames=False, save_txt=False, save_conf=False, save_crop=False, show_labels=True, show_conf=True, show_boxes=True, line_width=None, format=torchscript, keras=False, optimize=False, int8=False, dynamic=False, simplify=True, opset=None, workspace=None, nms=False, lr0=0.001, lrf=0.01, momentum=0.937, weight_decay=0.05, warmup_epochs=3.0, warmup_momentum=0.8, warmup_bias_lr=0.1, box=7.5, cls=0.5, dfl=1.5, pose=12.0, kobj=1.0, nbs=64, hsv_h=0.015, hsv_s=0.7, hsv_v=0.4, degrees=5, translate=0.1, scale=0.1, shear=0.0, perspective=0.0, flipud=0.0, fliplr=0.5, bgr=0.0, mosaic=0.75, mixup=0.15, copy_paste=0.0, copy_paste_mode=flip, auto_augment=randaugment, erasing=0.4, crop_fraction=1.0, cfg=None, tracker=botsort.yaml, save_dir=runs/detect/train8\n",
      "Overriding model.yaml nc=80 with nc=1\n",
      "\n",
      "                   from  n    params  module                                       arguments                     \n",
      "  0                  -1  1       928  ultralytics.nn.modules.conv.Conv             [3, 32, 3, 2]                 \n",
      "  1                  -1  1     18560  ultralytics.nn.modules.conv.Conv             [32, 64, 3, 2]                \n",
      "  2                  -1  1     29056  ultralytics.nn.modules.block.C2f             [64, 64, 1, True]             \n",
      "  3                  -1  1     73984  ultralytics.nn.modules.conv.Conv             [64, 128, 3, 2]               \n",
      "  4                  -1  2    197632  ultralytics.nn.modules.block.C2f             [128, 128, 2, True]           \n",
      "  5                  -1  1    295424  ultralytics.nn.modules.conv.Conv             [128, 256, 3, 2]              \n",
      "  6                  -1  2    788480  ultralytics.nn.modules.block.C2f             [256, 256, 2, True]           \n",
      "  7                  -1  1   1180672  ultralytics.nn.modules.conv.Conv             [256, 512, 3, 2]              \n",
      "  8                  -1  1   1838080  ultralytics.nn.modules.block.C2f             [512, 512, 1, True]           \n",
      "  9                  -1  1    656896  ultralytics.nn.modules.block.SPPF            [512, 512, 5]                 \n",
      " 10                  -1  1         0  torch.nn.modules.upsampling.Upsample         [None, 2, 'nearest']          \n",
      " 11             [-1, 6]  1         0  ultralytics.nn.modules.conv.Concat           [1]                           \n",
      " 12                  -1  1    591360  ultralytics.nn.modules.block.C2f             [768, 256, 1]                 \n",
      " 13                  -1  1         0  torch.nn.modules.upsampling.Upsample         [None, 2, 'nearest']          \n",
      " 14             [-1, 4]  1         0  ultralytics.nn.modules.conv.Concat           [1]                           \n",
      " 15                  -1  1    148224  ultralytics.nn.modules.block.C2f             [384, 128, 1]                 \n",
      " 16                  -1  1    147712  ultralytics.nn.modules.conv.Conv             [128, 128, 3, 2]              \n",
      " 17            [-1, 12]  1         0  ultralytics.nn.modules.conv.Concat           [1]                           \n",
      " 18                  -1  1    493056  ultralytics.nn.modules.block.C2f             [384, 256, 1]                 \n",
      " 19                  -1  1    590336  ultralytics.nn.modules.conv.Conv             [256, 256, 3, 2]              \n",
      " 20             [-1, 9]  1         0  ultralytics.nn.modules.conv.Concat           [1]                           \n",
      " 21                  -1  1   1969152  ultralytics.nn.modules.block.C2f             [768, 512, 1]                 \n",
      " 22        [15, 18, 21]  1   2116435  ultralytics.nn.modules.head.Detect           [1, [128, 256, 512]]          \n",
      "Model summary: 129 layers, 11,135,987 parameters, 11,135,971 gradients, 28.6 GFLOPs\n",
      "\n",
      "Transferred 349/355 items from pretrained weights\n",
      "Freezing layer 'model.22.dfl.conv.weight'\n",
      "\u001b[34m\u001b[1mAMP: \u001b[0mrunning Automatic Mixed Precision (AMP) checks...\n",
      "\u001b[34m\u001b[1mAMP: \u001b[0mchecks passed ✅\n"
     ]
    },
    {
     "name": "stderr",
     "output_type": "stream",
     "text": [
      "\u001b[34m\u001b[1mtrain: \u001b[0mScanning /cluster/home/pettdalh/tdt4265_project/data/lidar_data/train/labels.cache... 366 images, 0 backgrounds, 3 corrupt: 100%|██████████| 369/369 [00:00<?, ?it/s]"
     ]
    },
    {
     "name": "stdout",
     "output_type": "stream",
     "text": [
      "\u001b[34m\u001b[1mtrain: \u001b[0mWARNING ⚠️ /cluster/home/pettdalh/tdt4265_project/data/lidar_data/train/images/image_1052.png: ignoring corrupt image/label: Truncated File Read\n",
      "\u001b[34m\u001b[1mtrain: \u001b[0mWARNING ⚠️ /cluster/home/pettdalh/tdt4265_project/data/lidar_data/train/images/image_1084.png: ignoring corrupt image/label: Truncated File Read\n",
      "\u001b[34m\u001b[1mtrain: \u001b[0mWARNING ⚠️ /cluster/home/pettdalh/tdt4265_project/data/lidar_data/train/images/image_1089.png: ignoring corrupt image/label: Truncated File Read\n"
     ]
    },
    {
     "name": "stderr",
     "output_type": "stream",
     "text": [
      "\n"
     ]
    },
    {
     "name": "stdout",
     "output_type": "stream",
     "text": [
      "\u001b[34m\u001b[1malbumentations: \u001b[0mBlur(p=0.01, blur_limit=(3, 7)), MedianBlur(p=0.01, blur_limit=(3, 7)), ToGray(p=0.01, num_output_channels=3, method='weighted_average'), CLAHE(p=0.01, clip_limit=(1.0, 4.0), tile_grid_size=(8, 8))\n",
      "\u001b[34m\u001b[1mAutoBatch: \u001b[0mComputing optimal batch size for imgsz=640 at 60.0% CUDA memory utilization.\n",
      "\u001b[34m\u001b[1mAutoBatch: \u001b[0mCUDA:0 (Tesla P100-PCIE-16GB) 15.89G total, 13.41G reserved, 0.13G allocated, 2.34G free\n",
      "      Params      GFLOPs  GPU_mem (GB)  forward (ms) backward (ms)                   input                  output\n",
      "    11135987       28.65         0.856          8966     1.129e+04        (1, 3, 640, 640)                    list\n",
      "    11135987       57.29         1.137         137.2           276        (2, 3, 640, 640)                    list\n",
      "    11135987       114.6         1.881         38.14          1419        (4, 3, 640, 640)                    list\n",
      "    11135987       229.2         2.974         53.65          1093        (8, 3, 640, 640)                    list\n",
      "    11135987       458.4         5.750         100.5          6920       (16, 3, 640, 640)                    list\n",
      "\u001b[34m\u001b[1mAutoBatch: \u001b[0mUsing batch-size 2 for CUDA:0 14.78G/15.89G (93%) ✅\n"
     ]
    },
    {
     "name": "stderr",
     "output_type": "stream",
     "text": [
      "\u001b[34m\u001b[1mtrain: \u001b[0mScanning /cluster/home/pettdalh/tdt4265_project/data/lidar_data/train/labels.cache... 366 images, 0 backgrounds, 3 corrupt: 100%|██████████| 369/369 [00:00<?, ?it/s]"
     ]
    },
    {
     "name": "stdout",
     "output_type": "stream",
     "text": [
      "\u001b[34m\u001b[1mtrain: \u001b[0mWARNING ⚠️ /cluster/home/pettdalh/tdt4265_project/data/lidar_data/train/images/image_1052.png: ignoring corrupt image/label: Truncated File Read\n",
      "\u001b[34m\u001b[1mtrain: \u001b[0mWARNING ⚠️ /cluster/home/pettdalh/tdt4265_project/data/lidar_data/train/images/image_1084.png: ignoring corrupt image/label: Truncated File Read\n",
      "\u001b[34m\u001b[1mtrain: \u001b[0mWARNING ⚠️ /cluster/home/pettdalh/tdt4265_project/data/lidar_data/train/images/image_1089.png: ignoring corrupt image/label: Truncated File Read\n"
     ]
    },
    {
     "name": "stderr",
     "output_type": "stream",
     "text": [
      "\n"
     ]
    },
    {
     "name": "stdout",
     "output_type": "stream",
     "text": [
      "\u001b[34m\u001b[1malbumentations: \u001b[0mBlur(p=0.01, blur_limit=(3, 7)), MedianBlur(p=0.01, blur_limit=(3, 7)), ToGray(p=0.01, num_output_channels=3, method='weighted_average'), CLAHE(p=0.01, clip_limit=(1.0, 4.0), tile_grid_size=(8, 8))\n"
     ]
    },
    {
     "name": "stderr",
     "output_type": "stream",
     "text": [
      "\u001b[34m\u001b[1mval: \u001b[0mScanning /cluster/home/pettdalh/tdt4265_project/data/lidar_data/valid/labels.cache... 388 images, 0 backgrounds, 2 corrupt: 100%|██████████| 390/390 [00:00<?, ?it/s]"
     ]
    },
    {
     "name": "stdout",
     "output_type": "stream",
     "text": [
      "\u001b[34m\u001b[1mval: \u001b[0mWARNING ⚠️ /cluster/home/pettdalh/tdt4265_project/data/lidar_data/valid/images/image_191.png: ignoring corrupt image/label: Truncated File Read\n",
      "\u001b[34m\u001b[1mval: \u001b[0mWARNING ⚠️ /cluster/home/pettdalh/tdt4265_project/data/lidar_data/valid/images/image_624.png: ignoring corrupt image/label: Truncated File Read\n"
     ]
    },
    {
     "name": "stderr",
     "output_type": "stream",
     "text": [
      "\n"
     ]
    },
    {
     "name": "stdout",
     "output_type": "stream",
     "text": [
      "Plotting labels to runs/detect/train8/labels.jpg... \n",
      "\u001b[34m\u001b[1moptimizer:\u001b[0m AdamW(lr=0.001, momentum=0.937) with parameter groups 57 weight(decay=0.0), 64 weight(decay=0.05), 63 bias(decay=0.0)\n",
      "Image sizes 640 train, 640 val\n",
      "Using 8 dataloader workers\n",
      "Logging results to \u001b[1mruns/detect/train8\u001b[0m\n",
      "Starting training for 80 epochs...\n",
      "\n",
      "      Epoch    GPU_mem   box_loss   cls_loss   dfl_loss  Instances       Size\n"
     ]
    },
    {
     "name": "stderr",
     "output_type": "stream",
     "text": [
      "       1/80     0.709G      2.392      37.22     0.8199          9        640:  18%|█▊        | 33/183 [04:29<1:26:22, 34.55s/it]"
     ]
    }
   ],
   "source": [
    "model = YOLO('yolov8s.pt')  \n",
    "model.train(\n",
    "    data=\"/cluster/home/pettdalh/tdt4265_project/data/data.yaml\",\n",
    "    epochs=100,        # Reduced with early stopping\n",
    "    batch=-1,         # Increased if GPU memory allows\n",
    "    imgsz=640,\n",
    "    amp=True,\n",
    "    patience=10,      # Early stopping if no improvement\n",
    "    device=\"cuda\",\n",
    "    optimizer='AdamW', # Better than default SGD for small datasets\n",
    "    lr0=0.001,        # Lower initial learning rate\n",
    "    weight_decay=0.05, # Regularization\n",
    "    hsv_h=0.015,      # Subtle color augmentation\n",
    "    hsv_s=0.7,\n",
    "    hsv_v=0.4,\n",
    "    degrees=5,        # Limited rotation (poles are vertical)\n",
    "    translate=0.1,\n",
    "    scale=0.1,\n",
    "    fliplr=0.5,\n",
    "    mosaic=0.75,      # Helps with small object detection\n",
    "    mixup=0.15        # Mild regularization\n",
    ")"
   ]
  },
  {
   "cell_type": "code",
   "execution_count": null,
   "metadata": {},
   "outputs": [
    {
     "name": "stdout",
     "output_type": "stream",
     "text": [
      "\n",
      "WARNING ⚠️ Image Read Error /cluster/home/pettdalh/tdt4265_project/data/lidar_data/test/images/image_0.png\n",
      "WARNING ⚠️ Image Read Error /cluster/home/pettdalh/tdt4265_project/data/lidar_data/test/images/image_1009.png\n",
      "image 3/197 /cluster/home/pettdalh/tdt4265_project/data/lidar_data/test/images/image_1017.png: 96x640 1 pole, 51.2ms\n",
      "WARNING ⚠️ Image Read Error /cluster/home/pettdalh/tdt4265_project/data/lidar_data/test/images/image_1028.png\n"
     ]
    },
    {
     "name": "stderr",
     "output_type": "stream",
     "text": [
      "libpng error: PNG input buffer is incomplete\n",
      "libpng error: PNG input buffer is incomplete\n",
      "libpng error: PNG input buffer is incomplete\n"
     ]
    },
    {
     "name": "stdout",
     "output_type": "stream",
     "text": [
      "image 5/197 /cluster/home/pettdalh/tdt4265_project/data/lidar_data/test/images/image_1037.png: 96x640 2 poles, 16.5ms\n",
      "image 6/197 /cluster/home/pettdalh/tdt4265_project/data/lidar_data/test/images/image_1046.png: 96x640 2 poles, 11.7ms\n",
      "image 7/197 /cluster/home/pettdalh/tdt4265_project/data/lidar_data/test/images/image_1056.png: 96x640 1 pole, 15.1ms\n",
      "image 8/197 /cluster/home/pettdalh/tdt4265_project/data/lidar_data/test/images/image_1069.png: 96x640 1 pole, 17.0ms\n",
      "image 9/197 /cluster/home/pettdalh/tdt4265_project/data/lidar_data/test/images/image_1077.png: 96x640 1 pole, 16.8ms\n",
      "image 10/197 /cluster/home/pettdalh/tdt4265_project/data/lidar_data/test/images/image_1087.png: 96x640 2 poles, 11.6ms\n",
      "image 11/197 /cluster/home/pettdalh/tdt4265_project/data/lidar_data/test/images/image_1098.png: 96x640 1 pole, 16.9ms\n",
      "image 12/197 /cluster/home/pettdalh/tdt4265_project/data/lidar_data/test/images/image_1106.png: 96x640 1 pole, 10.7ms\n",
      "image 13/197 /cluster/home/pettdalh/tdt4265_project/data/lidar_data/test/images/image_1116.png: 96x640 2 poles, 11.4ms\n",
      "image 14/197 /cluster/home/pettdalh/tdt4265_project/data/lidar_data/test/images/image_1128.png: 96x640 2 poles, 16.8ms\n",
      "image 15/197 /cluster/home/pettdalh/tdt4265_project/data/lidar_data/test/images/image_1136.png: 96x640 2 poles, 16.8ms\n",
      "image 16/197 /cluster/home/pettdalh/tdt4265_project/data/lidar_data/test/images/image_1143.png: 96x640 2 poles, 15.7ms\n",
      "image 17/197 /cluster/home/pettdalh/tdt4265_project/data/lidar_data/test/images/image_1154.png: 96x640 (no detections), 11.2ms\n",
      "image 18/197 /cluster/home/pettdalh/tdt4265_project/data/lidar_data/test/images/image_1164.png: 96x640 1 pole, 16.9ms\n",
      "image 19/197 /cluster/home/pettdalh/tdt4265_project/data/lidar_data/test/images/image_1172.png: 96x640 2 poles, 12.0ms\n",
      "image 20/197 /cluster/home/pettdalh/tdt4265_project/data/lidar_data/test/images/image_1181.png: 96x640 1 pole, 14.2ms\n",
      "image 21/197 /cluster/home/pettdalh/tdt4265_project/data/lidar_data/test/images/image_119.png: 96x640 2 poles, 17.1ms\n",
      "image 22/197 /cluster/home/pettdalh/tdt4265_project/data/lidar_data/test/images/image_1191.png: 96x640 2 poles, 16.8ms\n",
      "image 23/197 /cluster/home/pettdalh/tdt4265_project/data/lidar_data/test/images/image_1209.png: 96x640 1 pole, 11.2ms\n",
      "image 24/197 /cluster/home/pettdalh/tdt4265_project/data/lidar_data/test/images/image_1218.png: 96x640 2 poles, 10.7ms\n",
      "image 25/197 /cluster/home/pettdalh/tdt4265_project/data/lidar_data/test/images/image_1227.png: 96x640 2 poles, 16.8ms\n",
      "image 26/197 /cluster/home/pettdalh/tdt4265_project/data/lidar_data/test/images/image_1237.png: 96x640 1 pole, 12.0ms\n",
      "image 27/197 /cluster/home/pettdalh/tdt4265_project/data/lidar_data/test/images/image_124.png: 96x640 1 pole, 16.7ms\n",
      "image 28/197 /cluster/home/pettdalh/tdt4265_project/data/lidar_data/test/images/image_1262.png: 96x640 2 poles, 16.8ms\n",
      "image 29/197 /cluster/home/pettdalh/tdt4265_project/data/lidar_data/test/images/image_1273.png: 96x640 1 pole, 15.4ms\n",
      "image 30/197 /cluster/home/pettdalh/tdt4265_project/data/lidar_data/test/images/image_1283.png: 96x640 1 pole, 11.0ms\n",
      "image 31/197 /cluster/home/pettdalh/tdt4265_project/data/lidar_data/test/images/image_1303.png: 96x640 1 pole, 16.9ms\n",
      "image 32/197 /cluster/home/pettdalh/tdt4265_project/data/lidar_data/test/images/image_1312.png: 96x640 2 poles, 11.6ms\n",
      "image 33/197 /cluster/home/pettdalh/tdt4265_project/data/lidar_data/test/images/image_1324.png: 96x640 (no detections), 12.4ms\n",
      "image 34/197 /cluster/home/pettdalh/tdt4265_project/data/lidar_data/test/images/image_1333.png: 96x640 3 poles, 17.4ms\n",
      "image 35/197 /cluster/home/pettdalh/tdt4265_project/data/lidar_data/test/images/image_1342.png: 96x640 4 poles, 16.7ms\n",
      "image 36/197 /cluster/home/pettdalh/tdt4265_project/data/lidar_data/test/images/image_1350.png: 96x640 1 pole, 11.6ms\n",
      "image 37/197 /cluster/home/pettdalh/tdt4265_project/data/lidar_data/test/images/image_1358.png: 96x640 (no detections), 10.6ms\n",
      "image 38/197 /cluster/home/pettdalh/tdt4265_project/data/lidar_data/test/images/image_1366.png: 96x640 1 pole, 16.7ms\n",
      "image 39/197 /cluster/home/pettdalh/tdt4265_project/data/lidar_data/test/images/image_1373.png: 96x640 2 poles, 11.0ms\n",
      "image 40/197 /cluster/home/pettdalh/tdt4265_project/data/lidar_data/test/images/image_1380.png: 96x640 2 poles, 11.3ms\n",
      "image 41/197 /cluster/home/pettdalh/tdt4265_project/data/lidar_data/test/images/image_1391.png: 96x640 1 pole, 17.1ms\n",
      "image 42/197 /cluster/home/pettdalh/tdt4265_project/data/lidar_data/test/images/image_1402.png: 96x640 (no detections), 16.8ms\n",
      "image 43/197 /cluster/home/pettdalh/tdt4265_project/data/lidar_data/test/images/image_1411.png: 96x640 1 pole, 17.0ms\n",
      "image 44/197 /cluster/home/pettdalh/tdt4265_project/data/lidar_data/test/images/image_1421.png: 96x640 1 pole, 15.7ms\n",
      "image 45/197 /cluster/home/pettdalh/tdt4265_project/data/lidar_data/test/images/image_1430.png: 96x640 2 poles, 16.8ms\n",
      "image 46/197 /cluster/home/pettdalh/tdt4265_project/data/lidar_data/test/images/image_1439.png: 96x640 1 pole, 11.2ms\n",
      "WARNING ⚠️ Image Read Error /cluster/home/pettdalh/tdt4265_project/data/lidar_data/test/images/image_1449.png\n",
      "image 48/197 /cluster/home/pettdalh/tdt4265_project/data/lidar_data/test/images/image_145.png: 96x640 1 pole, 13.6ms\n",
      "WARNING ⚠️ Image Read Error /cluster/home/pettdalh/tdt4265_project/data/lidar_data/test/images/image_1468.png\n",
      "image 50/197 /cluster/home/pettdalh/tdt4265_project/data/lidar_data/test/images/image_1479.png: 96x640 1 pole, 16.9ms\n",
      "image 51/197 /cluster/home/pettdalh/tdt4265_project/data/lidar_data/test/images/image_1486.png: 96x640 1 pole, 16.9ms\n"
     ]
    },
    {
     "name": "stderr",
     "output_type": "stream",
     "text": [
      "libpng error: PNG input buffer is incomplete\n",
      "libpng error: PNG input buffer is incomplete\n"
     ]
    },
    {
     "name": "stdout",
     "output_type": "stream",
     "text": [
      "image 52/197 /cluster/home/pettdalh/tdt4265_project/data/lidar_data/test/images/image_1494.png: 96x640 1 pole, 15.9ms\n",
      "image 53/197 /cluster/home/pettdalh/tdt4265_project/data/lidar_data/test/images/image_1500.png: 96x640 (no detections), 13.7ms\n",
      "image 54/197 /cluster/home/pettdalh/tdt4265_project/data/lidar_data/test/images/image_1511.png: 96x640 2 poles, 19.2ms\n",
      "image 55/197 /cluster/home/pettdalh/tdt4265_project/data/lidar_data/test/images/image_1519.png: 96x640 2 poles, 16.5ms\n",
      "image 56/197 /cluster/home/pettdalh/tdt4265_project/data/lidar_data/test/images/image_1529.png: 96x640 1 pole, 16.9ms\n",
      "image 57/197 /cluster/home/pettdalh/tdt4265_project/data/lidar_data/test/images/image_1537.png: 96x640 1 pole, 16.8ms\n",
      "image 58/197 /cluster/home/pettdalh/tdt4265_project/data/lidar_data/test/images/image_1548.png: 96x640 1 pole, 16.7ms\n",
      "image 59/197 /cluster/home/pettdalh/tdt4265_project/data/lidar_data/test/images/image_1556.png: 96x640 3 poles, 11.0ms\n",
      "image 60/197 /cluster/home/pettdalh/tdt4265_project/data/lidar_data/test/images/image_1565.png: 96x640 (no detections), 13.3ms\n",
      "image 61/197 /cluster/home/pettdalh/tdt4265_project/data/lidar_data/test/images/image_1575.png: 96x640 1 pole, 18.9ms\n",
      "image 62/197 /cluster/home/pettdalh/tdt4265_project/data/lidar_data/test/images/image_1583.png: 96x640 2 poles, 16.9ms\n",
      "image 63/197 /cluster/home/pettdalh/tdt4265_project/data/lidar_data/test/images/image_1590.png: 96x640 1 pole, 15.8ms\n",
      "image 64/197 /cluster/home/pettdalh/tdt4265_project/data/lidar_data/test/images/image_1599.png: 96x640 2 poles, 11.2ms\n",
      "image 65/197 /cluster/home/pettdalh/tdt4265_project/data/lidar_data/test/images/image_1606.png: 96x640 2 poles, 11.6ms\n",
      "image 66/197 /cluster/home/pettdalh/tdt4265_project/data/lidar_data/test/images/image_1613.png: 96x640 3 poles, 14.4ms\n",
      "image 67/197 /cluster/home/pettdalh/tdt4265_project/data/lidar_data/test/images/image_1627.png: 96x640 1 pole, 18.8ms\n",
      "image 68/197 /cluster/home/pettdalh/tdt4265_project/data/lidar_data/test/images/image_1638.png: 96x640 2 poles, 16.9ms\n",
      "image 69/197 /cluster/home/pettdalh/tdt4265_project/data/lidar_data/test/images/image_1647.png: 96x640 1 pole, 11.3ms\n",
      "image 70/197 /cluster/home/pettdalh/tdt4265_project/data/lidar_data/test/images/image_1655.png: 96x640 1 pole, 17.8ms\n",
      "image 71/197 /cluster/home/pettdalh/tdt4265_project/data/lidar_data/test/images/image_1663.png: 96x640 1 pole, 12.3ms\n",
      "image 72/197 /cluster/home/pettdalh/tdt4265_project/data/lidar_data/test/images/image_1673.png: 96x640 2 poles, 17.8ms\n",
      "image 73/197 /cluster/home/pettdalh/tdt4265_project/data/lidar_data/test/images/image_1681.png: 96x640 2 poles, 16.8ms\n",
      "image 74/197 /cluster/home/pettdalh/tdt4265_project/data/lidar_data/test/images/image_1690.png: 96x640 1 pole, 16.0ms\n",
      "image 75/197 /cluster/home/pettdalh/tdt4265_project/data/lidar_data/test/images/image_1700.png: 96x640 1 pole, 11.2ms\n",
      "image 76/197 /cluster/home/pettdalh/tdt4265_project/data/lidar_data/test/images/image_1713.png: 96x640 (no detections), 10.7ms\n",
      "image 77/197 /cluster/home/pettdalh/tdt4265_project/data/lidar_data/test/images/image_1722.png: 96x640 2 poles, 17.0ms\n",
      "image 78/197 /cluster/home/pettdalh/tdt4265_project/data/lidar_data/test/images/image_173.png: 96x640 2 poles, 11.5ms\n",
      "image 79/197 /cluster/home/pettdalh/tdt4265_project/data/lidar_data/test/images/image_1731.png: 96x640 1 pole, 12.9ms\n",
      "image 80/197 /cluster/home/pettdalh/tdt4265_project/data/lidar_data/test/images/image_1750.png: 96x640 1 pole, 19.0ms\n",
      "image 81/197 /cluster/home/pettdalh/tdt4265_project/data/lidar_data/test/images/image_1759.png: 96x640 3 poles, 16.8ms\n",
      "image 82/197 /cluster/home/pettdalh/tdt4265_project/data/lidar_data/test/images/image_1768.png: 96x640 2 poles, 11.4ms\n",
      "image 83/197 /cluster/home/pettdalh/tdt4265_project/data/lidar_data/test/images/image_1775.png: 96x640 (no detections), 17.1ms\n",
      "image 84/197 /cluster/home/pettdalh/tdt4265_project/data/lidar_data/test/images/image_1785.png: 96x640 2 poles, 17.1ms\n",
      "image 85/197 /cluster/home/pettdalh/tdt4265_project/data/lidar_data/test/images/image_1793.png: 96x640 2 poles, 15.7ms\n",
      "image 86/197 /cluster/home/pettdalh/tdt4265_project/data/lidar_data/test/images/image_1803.png: 96x640 1 pole, 16.9ms\n",
      "image 87/197 /cluster/home/pettdalh/tdt4265_project/data/lidar_data/test/images/image_1812.png: 96x640 2 poles, 16.6ms\n",
      "image 88/197 /cluster/home/pettdalh/tdt4265_project/data/lidar_data/test/images/image_1822.png: 96x640 3 poles, 13.7ms\n",
      "image 89/197 /cluster/home/pettdalh/tdt4265_project/data/lidar_data/test/images/image_1830.png: 96x640 1 pole, 16.7ms\n",
      "image 90/197 /cluster/home/pettdalh/tdt4265_project/data/lidar_data/test/images/image_1838.png: 96x640 1 pole, 11.4ms\n",
      "image 91/197 /cluster/home/pettdalh/tdt4265_project/data/lidar_data/test/images/image_1848.png: 96x640 1 pole, 17.8ms\n",
      "image 92/197 /cluster/home/pettdalh/tdt4265_project/data/lidar_data/test/images/image_1856.png: 96x640 (no detections), 16.8ms\n",
      "image 93/197 /cluster/home/pettdalh/tdt4265_project/data/lidar_data/test/images/image_1869.png: 96x640 2 poles, 16.8ms\n",
      "image 94/197 /cluster/home/pettdalh/tdt4265_project/data/lidar_data/test/images/image_188.png: 96x640 2 poles, 18.0ms\n",
      "image 95/197 /cluster/home/pettdalh/tdt4265_project/data/lidar_data/test/images/image_1905.png: 96x640 3 poles, 11.7ms\n",
      "image 96/197 /cluster/home/pettdalh/tdt4265_project/data/lidar_data/test/images/image_1916.png: 96x640 2 poles, 16.8ms\n",
      "image 97/197 /cluster/home/pettdalh/tdt4265_project/data/lidar_data/test/images/image_1926.png: 96x640 1 pole, 16.9ms\n",
      "image 98/197 /cluster/home/pettdalh/tdt4265_project/data/lidar_data/test/images/image_1934.png: 96x640 1 pole, 11.9ms\n",
      "image 99/197 /cluster/home/pettdalh/tdt4265_project/data/lidar_data/test/images/image_1945.png: 96x640 2 poles, 14.0ms\n",
      "image 100/197 /cluster/home/pettdalh/tdt4265_project/data/lidar_data/test/images/image_1955.png: 96x640 1 pole, 16.8ms\n",
      "image 101/197 /cluster/home/pettdalh/tdt4265_project/data/lidar_data/test/images/image_1964.png: 96x640 1 pole, 15.4ms\n",
      "image 102/197 /cluster/home/pettdalh/tdt4265_project/data/lidar_data/test/images/image_1973.png: 96x640 3 poles, 16.8ms\n",
      "image 103/197 /cluster/home/pettdalh/tdt4265_project/data/lidar_data/test/images/image_1987.png: 96x640 2 poles, 16.8ms\n",
      "image 104/197 /cluster/home/pettdalh/tdt4265_project/data/lidar_data/test/images/image_1999.png: 96x640 1 pole, 10.6ms\n",
      "image 105/197 /cluster/home/pettdalh/tdt4265_project/data/lidar_data/test/images/image_2008.png: 96x640 1 pole, 17.0ms\n",
      "image 106/197 /cluster/home/pettdalh/tdt4265_project/data/lidar_data/test/images/image_2018.png: 96x640 1 pole, 11.5ms\n",
      "image 107/197 /cluster/home/pettdalh/tdt4265_project/data/lidar_data/test/images/image_2027.png: 96x640 2 poles, 13.1ms\n",
      "image 108/197 /cluster/home/pettdalh/tdt4265_project/data/lidar_data/test/images/image_2042.png: 96x640 2 poles, 16.9ms\n",
      "image 109/197 /cluster/home/pettdalh/tdt4265_project/data/lidar_data/test/images/image_2050.png: 96x640 1 pole, 16.7ms\n",
      "image 110/197 /cluster/home/pettdalh/tdt4265_project/data/lidar_data/test/images/image_2059.png: 96x640 1 pole, 12.0ms\n",
      "image 111/197 /cluster/home/pettdalh/tdt4265_project/data/lidar_data/test/images/image_2069.png: 96x640 1 pole, 11.6ms\n",
      "image 112/197 /cluster/home/pettdalh/tdt4265_project/data/lidar_data/test/images/image_207.png: 96x640 2 poles, 16.8ms\n",
      "image 113/197 /cluster/home/pettdalh/tdt4265_project/data/lidar_data/test/images/image_2088.png: 96x640 (no detections), 11.6ms\n",
      "image 114/197 /cluster/home/pettdalh/tdt4265_project/data/lidar_data/test/images/image_2096.png: 96x640 1 pole, 15.6ms\n",
      "image 115/197 /cluster/home/pettdalh/tdt4265_project/data/lidar_data/test/images/image_2104.png: 96x640 (no detections), 16.7ms\n",
      "image 116/197 /cluster/home/pettdalh/tdt4265_project/data/lidar_data/test/images/image_2116.png: 96x640 (no detections), 16.9ms\n",
      "image 117/197 /cluster/home/pettdalh/tdt4265_project/data/lidar_data/test/images/image_2126.png: 96x640 (no detections), 15.6ms\n",
      "image 118/197 /cluster/home/pettdalh/tdt4265_project/data/lidar_data/test/images/image_2136.png: 96x640 2 poles, 10.4ms\n",
      "image 119/197 /cluster/home/pettdalh/tdt4265_project/data/lidar_data/test/images/image_2145.png: 96x640 1 pole, 17.0ms\n",
      "image 120/197 /cluster/home/pettdalh/tdt4265_project/data/lidar_data/test/images/image_2155.png: 96x640 (no detections), 17.0ms\n",
      "image 121/197 /cluster/home/pettdalh/tdt4265_project/data/lidar_data/test/images/image_217.png: 96x640 2 poles, 11.0ms\n",
      "image 122/197 /cluster/home/pettdalh/tdt4265_project/data/lidar_data/test/images/image_226.png: 96x640 2 poles, 16.4ms\n",
      "image 123/197 /cluster/home/pettdalh/tdt4265_project/data/lidar_data/test/images/image_233.png: 96x640 2 poles, 16.9ms\n",
      "image 124/197 /cluster/home/pettdalh/tdt4265_project/data/lidar_data/test/images/image_244.png: 96x640 (no detections), 15.1ms\n",
      "image 125/197 /cluster/home/pettdalh/tdt4265_project/data/lidar_data/test/images/image_253.png: 96x640 1 pole, 10.7ms\n",
      "image 126/197 /cluster/home/pettdalh/tdt4265_project/data/lidar_data/test/images/image_260.png: 96x640 (no detections), 11.2ms\n",
      "image 127/197 /cluster/home/pettdalh/tdt4265_project/data/lidar_data/test/images/image_269.png: 96x640 1 pole, 17.1ms\n",
      "image 128/197 /cluster/home/pettdalh/tdt4265_project/data/lidar_data/test/images/image_279.png: 96x640 4 poles, 15.6ms\n",
      "image 129/197 /cluster/home/pettdalh/tdt4265_project/data/lidar_data/test/images/image_289.png: 96x640 1 pole, 10.9ms\n",
      "image 130/197 /cluster/home/pettdalh/tdt4265_project/data/lidar_data/test/images/image_298.png: 96x640 2 poles, 15.6ms\n",
      "image 131/197 /cluster/home/pettdalh/tdt4265_project/data/lidar_data/test/images/image_306.png: 96x640 1 pole, 16.7ms\n",
      "image 132/197 /cluster/home/pettdalh/tdt4265_project/data/lidar_data/test/images/image_315.png: 96x640 1 pole, 16.9ms\n",
      "image 133/197 /cluster/home/pettdalh/tdt4265_project/data/lidar_data/test/images/image_328.png: 96x640 1 pole, 12.7ms\n",
      "image 134/197 /cluster/home/pettdalh/tdt4265_project/data/lidar_data/test/images/image_337.png: 96x640 2 poles, 16.9ms\n",
      "image 135/197 /cluster/home/pettdalh/tdt4265_project/data/lidar_data/test/images/image_347.png: 96x640 2 poles, 11.0ms\n",
      "image 136/197 /cluster/home/pettdalh/tdt4265_project/data/lidar_data/test/images/image_356.png: 96x640 (no detections), 15.5ms\n",
      "image 137/197 /cluster/home/pettdalh/tdt4265_project/data/lidar_data/test/images/image_368.png: 96x640 1 pole, 16.9ms\n",
      "image 138/197 /cluster/home/pettdalh/tdt4265_project/data/lidar_data/test/images/image_377.png: 96x640 1 pole, 18.9ms\n",
      "image 139/197 /cluster/home/pettdalh/tdt4265_project/data/lidar_data/test/images/image_388.png: 96x640 1 pole, 16.8ms\n",
      "image 140/197 /cluster/home/pettdalh/tdt4265_project/data/lidar_data/test/images/image_395.png: 96x640 2 poles, 10.9ms\n",
      "image 141/197 /cluster/home/pettdalh/tdt4265_project/data/lidar_data/test/images/image_404.png: 96x640 1 pole, 10.4ms\n",
      "image 142/197 /cluster/home/pettdalh/tdt4265_project/data/lidar_data/test/images/image_417.png: 96x640 2 poles, 17.1ms\n",
      "image 143/197 /cluster/home/pettdalh/tdt4265_project/data/lidar_data/test/images/image_425.png: 96x640 2 poles, 11.3ms\n",
      "image 144/197 /cluster/home/pettdalh/tdt4265_project/data/lidar_data/test/images/image_432.png: 96x640 1 pole, 19.0ms\n",
      "image 145/197 /cluster/home/pettdalh/tdt4265_project/data/lidar_data/test/images/image_44.png: 96x640 2 poles, 16.9ms\n",
      "image 146/197 /cluster/home/pettdalh/tdt4265_project/data/lidar_data/test/images/image_440.png: 96x640 3 poles, 17.0ms\n",
      "image 147/197 /cluster/home/pettdalh/tdt4265_project/data/lidar_data/test/images/image_461.png: 96x640 2 poles, 10.3ms\n",
      "image 148/197 /cluster/home/pettdalh/tdt4265_project/data/lidar_data/test/images/image_469.png: 96x640 1 pole, 16.9ms\n",
      "image 149/197 /cluster/home/pettdalh/tdt4265_project/data/lidar_data/test/images/image_476.png: 96x640 2 poles, 10.9ms\n",
      "image 150/197 /cluster/home/pettdalh/tdt4265_project/data/lidar_data/test/images/image_488.png: 96x640 1 pole, 10.7ms\n",
      "image 151/197 /cluster/home/pettdalh/tdt4265_project/data/lidar_data/test/images/image_499.png: 96x640 (no detections), 15.8ms\n",
      "image 152/197 /cluster/home/pettdalh/tdt4265_project/data/lidar_data/test/images/image_50.png: 96x640 2 poles, 17.1ms\n",
      "image 153/197 /cluster/home/pettdalh/tdt4265_project/data/lidar_data/test/images/image_51.png: 96x640 2 poles, 16.9ms\n",
      "image 154/197 /cluster/home/pettdalh/tdt4265_project/data/lidar_data/test/images/image_52.png: 96x640 1 pole, 11.1ms\n",
      "image 155/197 /cluster/home/pettdalh/tdt4265_project/data/lidar_data/test/images/image_539.png: 96x640 1 pole, 10.3ms\n",
      "image 156/197 /cluster/home/pettdalh/tdt4265_project/data/lidar_data/test/images/image_552.png: 96x640 1 pole, 17.0ms\n",
      "image 157/197 /cluster/home/pettdalh/tdt4265_project/data/lidar_data/test/images/image_560.png: 96x640 (no detections), 11.8ms\n",
      "image 158/197 /cluster/home/pettdalh/tdt4265_project/data/lidar_data/test/images/image_574.png: 96x640 1 pole, 13.1ms\n",
      "image 159/197 /cluster/home/pettdalh/tdt4265_project/data/lidar_data/test/images/image_585.png: 96x640 1 pole, 16.9ms\n",
      "image 160/197 /cluster/home/pettdalh/tdt4265_project/data/lidar_data/test/images/image_593.png: 96x640 2 poles, 16.9ms\n",
      "image 161/197 /cluster/home/pettdalh/tdt4265_project/data/lidar_data/test/images/image_60.png: 96x640 1 pole, 10.4ms\n",
      "image 162/197 /cluster/home/pettdalh/tdt4265_project/data/lidar_data/test/images/image_602.png: 96x640 1 pole, 11.2ms\n",
      "image 163/197 /cluster/home/pettdalh/tdt4265_project/data/lidar_data/test/images/image_62.png: 96x640 2 poles, 17.1ms\n",
      "image 164/197 /cluster/home/pettdalh/tdt4265_project/data/lidar_data/test/images/image_620.png: 96x640 (no detections), 11.2ms\n",
      "image 165/197 /cluster/home/pettdalh/tdt4265_project/data/lidar_data/test/images/image_638.png: 96x640 (no detections), 15.7ms\n",
      "image 166/197 /cluster/home/pettdalh/tdt4265_project/data/lidar_data/test/images/image_645.png: 96x640 1 pole, 17.0ms\n",
      "image 167/197 /cluster/home/pettdalh/tdt4265_project/data/lidar_data/test/images/image_656.png: 96x640 1 pole, 16.8ms\n",
      "image 168/197 /cluster/home/pettdalh/tdt4265_project/data/lidar_data/test/images/image_665.png: 96x640 1 pole, 16.4ms\n",
      "image 169/197 /cluster/home/pettdalh/tdt4265_project/data/lidar_data/test/images/image_677.png: 96x640 2 poles, 11.0ms\n",
      "image 170/197 /cluster/home/pettdalh/tdt4265_project/data/lidar_data/test/images/image_686.png: 96x640 1 pole, 17.0ms\n",
      "image 171/197 /cluster/home/pettdalh/tdt4265_project/data/lidar_data/test/images/image_694.png: 96x640 (no detections), 11.6ms\n",
      "image 172/197 /cluster/home/pettdalh/tdt4265_project/data/lidar_data/test/images/image_7.png: 96x640 1 pole, 11.4ms\n",
      "image 173/197 /cluster/home/pettdalh/tdt4265_project/data/lidar_data/test/images/image_705.png: 96x640 2 poles, 17.7ms\n",
      "image 174/197 /cluster/home/pettdalh/tdt4265_project/data/lidar_data/test/images/image_715.png: 96x640 1 pole, 16.8ms\n",
      "image 175/197 /cluster/home/pettdalh/tdt4265_project/data/lidar_data/test/images/image_725.png: 96x640 1 pole, 16.9ms\n",
      "image 176/197 /cluster/home/pettdalh/tdt4265_project/data/lidar_data/test/images/image_763.png: 96x640 1 pole, 11.3ms\n",
      "image 177/197 /cluster/home/pettdalh/tdt4265_project/data/lidar_data/test/images/image_774.png: 96x640 3 poles, 16.9ms\n",
      "image 178/197 /cluster/home/pettdalh/tdt4265_project/data/lidar_data/test/images/image_782.png: 96x640 1 pole, 11.2ms\n",
      "image 179/197 /cluster/home/pettdalh/tdt4265_project/data/lidar_data/test/images/image_790.png: 96x640 1 pole, 16.2ms\n",
      "image 180/197 /cluster/home/pettdalh/tdt4265_project/data/lidar_data/test/images/image_807.png: 96x640 (no detections), 16.8ms\n",
      "image 181/197 /cluster/home/pettdalh/tdt4265_project/data/lidar_data/test/images/image_816.png: 96x640 1 pole, 16.8ms\n",
      "image 182/197 /cluster/home/pettdalh/tdt4265_project/data/lidar_data/test/images/image_825.png: 96x640 2 poles, 17.0ms\n",
      "image 183/197 /cluster/home/pettdalh/tdt4265_project/data/lidar_data/test/images/image_832.png: 96x640 2 poles, 11.0ms\n",
      "image 184/197 /cluster/home/pettdalh/tdt4265_project/data/lidar_data/test/images/image_84.png: 96x640 1 pole, 10.3ms\n",
      "image 185/197 /cluster/home/pettdalh/tdt4265_project/data/lidar_data/test/images/image_841.png: 96x640 2 poles, 17.0ms\n",
      "image 186/197 /cluster/home/pettdalh/tdt4265_project/data/lidar_data/test/images/image_858.png: 96x640 1 pole, 11.1ms\n",
      "image 187/197 /cluster/home/pettdalh/tdt4265_project/data/lidar_data/test/images/image_868.png: 96x640 2 poles, 16.6ms\n",
      "image 188/197 /cluster/home/pettdalh/tdt4265_project/data/lidar_data/test/images/image_876.png: 96x640 1 pole, 17.0ms\n",
      "image 189/197 /cluster/home/pettdalh/tdt4265_project/data/lidar_data/test/images/image_888.png: 96x640 1 pole, 14.9ms\n",
      "image 190/197 /cluster/home/pettdalh/tdt4265_project/data/lidar_data/test/images/image_898.png: 96x640 1 pole, 11.1ms\n",
      "image 191/197 /cluster/home/pettdalh/tdt4265_project/data/lidar_data/test/images/image_907.png: 96x640 2 poles, 16.9ms\n",
      "image 192/197 /cluster/home/pettdalh/tdt4265_project/data/lidar_data/test/images/image_918.png: 96x640 2 poles, 10.9ms\n",
      "image 193/197 /cluster/home/pettdalh/tdt4265_project/data/lidar_data/test/images/image_927.png: 96x640 2 poles, 17.4ms\n",
      "image 194/197 /cluster/home/pettdalh/tdt4265_project/data/lidar_data/test/images/image_938.png: 96x640 3 poles, 16.8ms\n",
      "image 195/197 /cluster/home/pettdalh/tdt4265_project/data/lidar_data/test/images/image_94.png: 96x640 3 poles, 11.4ms\n",
      "image 196/197 /cluster/home/pettdalh/tdt4265_project/data/lidar_data/test/images/image_982.png: 96x640 1 pole, 13.7ms\n",
      "image 197/197 /cluster/home/pettdalh/tdt4265_project/data/lidar_data/test/images/image_997.png: 96x640 1 pole, 17.1ms\n",
      "Speed: 1.5ms preprocess, 14.9ms inference, 7.4ms postprocess per image at shape (1, 3, 96, 640)\n",
      "Results saved to \u001b[1m/cluster/home/pettdalh/tdt4265_project/lidar_predictions/predict_3\u001b[0m\n",
      "169 labels saved to /cluster/home/pettdalh/tdt4265_project/lidar_predictions/predict_3/labels\n"
     ]
    }
   ],
   "source": [
    "# Get results without saving\n",
    "# model = YOLO('runs/detect/train5/weights/best.pt')\n",
    "results = model.predict(\n",
    "    source=\"/cluster/home/pettdalh/tdt4265_project/data/lidar_data/test/images/\",\n",
    "    project=\"/cluster/home/pettdalh/tdt4265_project/lidar_predictions\",\n",
    "    name=\"predict_5\",\n",
    "    device=\"cuda\",\n",
    "    save_txt=True,\n",
    "    save_conf=True\n",
    ")"
   ]
  },
  {
   "cell_type": "code",
   "execution_count": null,
   "metadata": {},
   "outputs": [],
   "source": [
    "# # Get result for first image\n",
    "# result = results[0]\n",
    "\n",
    "# # Load the original image\n",
    "# img = cv2.imread(\"/cluster/home/pettdalh/tdt4265_project/Poles/lidar/combined_color/test/image_44.png\")\n",
    "# img = cv2.cvtColor(img, cv2.COLOR_BGR2RGB)  # Convert BGR to RGB\n",
    "\n",
    "# # Create figure and axes\n",
    "# fig, ax = plt.subplots(1, figsize=(12, 9))\n",
    "# ax.imshow(img)\n",
    "\n",
    "# # Get the detection boxes\n",
    "# boxes = result.boxes\n",
    "# for box in boxes:\n",
    "#     # Get coordinates\n",
    "#     x1, y1, x2, y2 = box.xyxy[0].cpu().numpy()\n",
    "#     confidence = float(box.conf[0])\n",
    "    \n",
    "#     # Create rectangle\n",
    "#     rect = patches.Rectangle(\n",
    "#         (x1, y1), x2-x1, y2-y1, \n",
    "#         linewidth=2, \n",
    "#         edgecolor='r', \n",
    "#         facecolor='none'\n",
    "#     )\n",
    "    \n",
    "#     # Add rectangle to plot\n",
    "#     ax.add_patch(rect)\n",
    "    \n",
    "#     # Add confidence label\n",
    "#     ax.text(\n",
    "#         x1, y1-10, \n",
    "#         f\"Pole: {confidence:.2f}\", \n",
    "#         color='white', \n",
    "#         fontweight='bold',\n",
    "#         bbox=dict(facecolor='red', alpha=0.5)\n",
    "#     )\n",
    "\n",
    "# # Show plot\n",
    "# plt.title(f\"Detected {len(boxes)} poles\")\n",
    "# plt.axis('off')  # Hide axes\n",
    "# plt.tight_layout()\n",
    "# plt.show()"
   ]
  }
 ],
 "metadata": {
  "kernelspec": {
   "display_name": "snow-pole",
   "language": "python",
   "name": "python3"
  },
  "language_info": {
   "codemirror_mode": {
    "name": "ipython",
    "version": 3
   },
   "file_extension": ".py",
   "mimetype": "text/x-python",
   "name": "python",
   "nbconvert_exporter": "python",
   "pygments_lexer": "ipython3",
   "version": "3.11.11"
  }
 },
 "nbformat": 4,
 "nbformat_minor": 2
}
